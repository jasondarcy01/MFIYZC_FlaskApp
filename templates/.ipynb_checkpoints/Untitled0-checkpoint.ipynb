{
 "metadata": {
  "name": "",
  "signature": "sha256:b628e08dea74ed2cafea3c343df22e4346b780e08e433f91c04a215509f0da2c"
 },
 "nbformat": 3,
 "nbformat_minor": 0,
 "worksheets": []
}