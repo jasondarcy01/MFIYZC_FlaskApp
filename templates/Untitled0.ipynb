{
 "metadata": {
  "name": "",
  "signature": "sha256:898a7be05e84040e6a2f4ccb0bc30ab4bb15b6982eab56ad6ed30160dd73d1f0"
 },
 "nbformat": 3,
 "nbformat_minor": 0,
 "worksheets": [
  {
   "cells": [
    {
     "cell_type": "code",
     "collapsed": false,
     "input": [
      "def foo(zip):\n",
      "    zipcodes = [11105,11102,11103,11104,11377,11373,11372,11368]\n",
      "    neighbors = []\n",
      "    if zip in zipcodes:\n",
      "        x = zipcodes.index(zip)\n",
      "        num1 = x-1 \n",
      "        num2 = x+2 \n",
      "        # ensure that idx doesn't get -1\n",
      "        if num1<0: num1=0 \n",
      "        neighbors = zipcodes[num1:num2] \n",
      "        print neighbors\n",
      "foo(11377)"
     ],
     "language": "python",
     "metadata": {},
     "outputs": [
      {
       "output_type": "stream",
       "stream": "stdout",
       "text": [
        "[11104, 11377, 11373]\n"
       ]
      }
     ],
     "prompt_number": 1
    },
    {
     "cell_type": "code",
     "collapsed": false,
     "input": [],
     "language": "python",
     "metadata": {},
     "outputs": []
    }
   ],
   "metadata": {}
  }
 ]
}